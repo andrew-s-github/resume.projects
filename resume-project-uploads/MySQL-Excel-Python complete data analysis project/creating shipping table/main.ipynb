version https://git-lfs.github.com/spec/v1
oid sha256:4a2617cee5599090a8cc064a1fb9cc729d23d496c1ba256ea99791b3551de64a
size 45373
