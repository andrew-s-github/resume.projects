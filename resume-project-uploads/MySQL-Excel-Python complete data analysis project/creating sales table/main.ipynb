version https://git-lfs.github.com/spec/v1
oid sha256:478393b0ae0b392461d3594ceba3db3fd0acd7ee5e9871e228e6834d193b59bf
size 11923
