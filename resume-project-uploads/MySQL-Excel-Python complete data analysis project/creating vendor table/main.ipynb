version https://git-lfs.github.com/spec/v1
oid sha256:4197bf4b955adea29e20d81a52937fd6d518ed3db75c10dba340bcbf951dc866
size 3744
