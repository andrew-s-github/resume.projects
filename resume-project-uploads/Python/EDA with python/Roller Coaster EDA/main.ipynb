version https://git-lfs.github.com/spec/v1
oid sha256:978b26ddacaa0ca26ba6fb199bde6eb5550cd9e9ef72ec2d0cc48e1a81851e03
size 283747
